{
 "cells": [
  {
   "cell_type": "code",
   "execution_count": 1,
   "metadata": {},
   "outputs": [
    {
     "name": "stdout",
     "output_type": "stream",
     "text": [
      "\u001b[34mConnecting to --port=/dev/ttyUSB0 --baud=115200 \u001b[0m\n",
      "\u001b[34mReady.\n",
      "\u001b[0m"
     ]
    }
   ],
   "source": [
    "%serialconnect to --port=/dev/ttyUSB0 --baud=115200"
   ]
  },
  {
   "cell_type": "code",
   "execution_count": 3,
   "metadata": {},
   "outputs": [],
   "source": [
    "import machine"
   ]
  },
  {
   "cell_type": "code",
   "execution_count": 3,
   "metadata": {},
   "outputs": [],
   "source": [
    "# Set uart port and tx rx\n",
    "uart = machine.UART(1)\n",
    "\n",
    "# Set part baud and data bits, Parity bits, stop bits\n",
    "\n",
    "uart.init(19200, tx = 26, rx = 0)"
   ]
  },
  {
   "cell_type": "code",
   "execution_count": 116,
   "metadata": {},
   "outputs": [
    {
     "name": "stdout",
     "output_type": "stream",
     "text": [
      "b'2707\\n'\n"
     ]
    }
   ],
   "source": [
    "print(uart.readline())"
   ]
  },
  {
   "cell_type": "code",
   "execution_count": 4,
   "metadata": {},
   "outputs": [],
   "source": [
    "uart_out_buf = bytearray(1)\n",
    "uart.write(\"@OF30\")\n",
    "uart_out_buf = 0x0a\n",
    "uart.write(b'\\x0a')\n",
    "uart.write(\"@RG2\")\n",
    "uart_out_buf = 0x0a\n",
    "uart.write(b'\\x0a')"
   ]
  },
  {
   "cell_type": "code",
   "execution_count": 6,
   "metadata": {},
   "outputs": [],
   "source": [
    "uart.write(\"jak tam na swiecie \\nwszystko ok?\\n\")"
   ]
  },
  {
   "cell_type": "code",
   "execution_count": 5,
   "metadata": {},
   "outputs": [],
   "source": [
    "\n",
    "\n",
    "def internet_set_time():\n",
    "    try:    \n",
    "        import usocket as socket\n",
    "    except:\n",
    "        import socket\n",
    "    try:\n",
    "        import ustruct as struct\n",
    "    except:\n",
    "        import struct\n",
    "\n",
    "    # (date(2000, 1, 1) - date(1900, 1, 1)).days * 24*60*60\n",
    "    NTP_DELTA = 3155673600\n",
    "\n",
    "    # The NTP host can be configured at runtime by doing: ntptime.host = 'myhost.org'\n",
    "    host = \"pool.ntp.org\"\n",
    "\n",
    "    print(\"setting up time\")\n",
    "    def time():\n",
    "        NTP_QUERY = bytearray(48)\n",
    "        NTP_QUERY[0] = 0x1B\n",
    "        addr = socket.getaddrinfo(host, 123)[0][-1]\n",
    "        s = socket.socket(socket.AF_INET, socket.SOCK_DGRAM)\n",
    "        try:\n",
    "            s.settimeout(1)\n",
    "            res = s.sendto(NTP_QUERY, addr)\n",
    "            msg = s.recv(48)\n",
    "        finally:\n",
    "            s.close()\n",
    "        val = struct.unpack(\"!I\", msg[40:44])[0]\n",
    "        return val - NTP_DELTA\n",
    "\n",
    "\n",
    "    # There's currently no timezone support in MicroPython, and the RTC is set in UTC time.\n",
    "    \n",
    "    \n",
    "    def settime():\n",
    "        t = time()\n",
    "        import machine\n",
    "        import utime\n",
    "\n",
    "        tm = utime.gmtime(t)\n",
    "        machine.RTC().datetime((tm[0], tm[1], tm[2], tm[6] + 1, tm[3], tm[4], tm[5], 0))\n",
    "        print(machine.RTC().datetime())\n",
    "    settime()\n",
    "    \n",
    "    \n",
    "def connect_internet_set_time(network_name = \"igor_test\",password = \"mywifikey\"):\n",
    "    import network\n",
    "    from network import WLAN\n",
    "    wlan = WLAN(network.STA_IF)\n",
    "    wlan.active(True)   \n",
    "    nets = wlan.scan()\n",
    "\n",
    "\n",
    "    if not wlan.isconnected():\n",
    "        print(nets)\n",
    "\n",
    "        for net in nets:\n",
    "\n",
    "            if net[0].decode() == network_name:\n",
    "                print('Network found!')\n",
    "                wlan.connect(net[0].decode(),  password)\n",
    "                while not wlan.isconnected():\n",
    "                    machine.idle() # save power while waiting\n",
    "                print('WLAN connection succeeded!')\n",
    "\n",
    "\n",
    "                break\n",
    "    try:\n",
    "        internet_set_time()\n",
    "    except:\n",
    "        \"could not set time\"\n",
    "\n",
    "import time        \n",
    "        \n",
    "def get_time_ns():\n",
    "    return time.time_ns()"
   ]
  },
  {
   "cell_type": "code",
   "execution_count": 6,
   "metadata": {},
   "outputs": [
    {
     "name": "stdout",
     "output_type": "stream",
     "text": [
      "[(b'MAINS-2G', b'\\x00\\x0fa\\x82\\xbe`', 11, -63, 4, False), (b'MAINS-2G', b'\\x10`K6]0', 1, -78, 4, False), (b'35A697D758A02016382D65C34AE5088A', b'\\x00\\x1ds@\\x8fa', 11, -85, 2, False), (b'MAINS-2G', b'\\x00\\x0fa\\x82\\xbb\\x80', 1, -87, 4, False), (b'', b'\\x96\\x9aJ@S#', 5, -93, 3, False), (b'TP-Link_2G', b'\\x90\\x9aJ@S#', 5, -93, 3, False)]\n",
      "setting up time\n"
     ]
    }
   ],
   "source": [
    "connect_internet_set_time()"
   ]
  },
  {
   "cell_type": "code",
   "execution_count": 7,
   "metadata": {
    "scrolled": true
   },
   "outputs": [
    {
     "name": "stdout",
     "output_type": "stream",
     "text": [
      "247960327000\n"
     ]
    }
   ],
   "source": [
    "print(get_time_ns())"
   ]
  },
  {
   "cell_type": "markdown",
   "metadata": {},
   "source": [
    "  Serial2.begin(19200, SERIAL_8N1, 0, 26);         // RX=0   TX=26\n",
    "    Serial2.print(\"@OF30\");           // Offset\n",
    "    Serial2.write(0x0a);\n",
    "    Serial2.print(\"@RG2\");            // MAG=2\n",
    "    Serial2.write(0x0a);\n",
    "    fConv = (float)LCDHEIGHT/(float)MAXADRANGE; "
   ]
  },
  {
   "cell_type": "code",
   "execution_count": 8,
   "metadata": {},
   "outputs": [],
   "source": [
    "import ulab\n",
    "from ulab import numpy as np\n"
   ]
  },
  {
   "cell_type": "code",
   "execution_count": 134,
   "metadata": {},
   "outputs": [],
   "source": [
    "heart_rate_vector = np.array((0 for x in range(150)), dtype=np.uint8)\n"
   ]
  },
  {
   "cell_type": "code",
   "execution_count": null,
   "metadata": {},
   "outputs": [
    {
     "name": "stdout",
     "output_type": "stream",
     "text": [
      "\n",
      "n messages 211\n",
      "452\n",
      "n messages 229\n",
      "error\n",
      ".n messages 521\n",
      "error\n",
      "n messages 260\n",
      "string index out of range\n",
      "n messages 251\n",
      "error\n",
      "n messages 260\n",
      "error\n",
      "n messages 261\n",
      "error\n",
      "n messages 260\n",
      "error\n",
      ".n messages 261\n",
      "error\n",
      "n messages 901\n",
      "error\n",
      "n messages 260\n",
      "984\n",
      ".n messages 256\n",
      "980\n",
      "n messages 261\n",
      "1016\n",
      "n messages 254\n",
      "984\n",
      "n messages 260\n",
      "980\n",
      "n messages 260\n",
      "996\n",
      "n messages 264\n",
      "1016\n",
      "n messages 253\n",
      "984\n",
      ".n messages 258\n",
      "1028\n",
      "n messages 273\n",
      "1068\n",
      "n messages 256\n",
      "1012\n",
      "n messages 264\n",
      "1032\n",
      "n messages 261\n",
      "980\n",
      "n messages 244\n",
      "968\n",
      ".n messages 253\n",
      "996\n",
      "n messages 273\n",
      "1048\n",
      "n messages 260\n",
      "984\n",
      "n messages 271\n",
      "1048\n",
      "n messages 253\n",
      "1080\n",
      "n messages 99\n",
      "error\n",
      ".n messages 1042\n",
      "712\n",
      "n messages 421\n",
      "error\n",
      ".n messages 469\n",
      "944\n",
      "n messages 1045\n",
      "error\n",
      ".n messages 597\n",
      "error\n",
      "n messages 410\n",
      "632\n",
      ".n messages 1253\n",
      "460\n",
      "..\n",
      "**[ys] <class 'serial.serialutil.SerialException'>\n",
      "**[ys] read failed: device reports readiness to read but returned no data (device disconnected or multiple access on port?)\n",
      "\n",
      "aes "
     ]
    }
   ],
   "source": [
    "n_mes = 0\n",
    "while True:\n",
    "    result = uart.readline()\n",
    "\n",
    "    if result:\n",
    "        try:\n",
    "            number = result.decode()\n",
    "\n",
    "            if number[0] == \"#\": #special case\n",
    "                print(\"n messages\",n_mes)\n",
    "                n_mes = 0\n",
    "                if number[1] == \"-\":\n",
    "                    #pass\n",
    "                    print(\"error\")\n",
    "                else:\n",
    "                    try :\n",
    "                        Rri_n = int(number[1:].strip())\n",
    "                        \n",
    "                    except Exception as e:\n",
    "                        print(e)\n",
    "                        #print(number[1],\"whole string\",number)\n",
    "                    #Rri = number[1:].strip()\n",
    "                    print(Rri_n)\n",
    "            else:\n",
    "                n_mes +=1\n",
    "        except Exception as e:\n",
    "            print(e)"
   ]
  },
  {
   "cell_type": "code",
   "execution_count": 54,
   "metadata": {},
   "outputs": [
    {
     "name": "stdout",
     "output_type": "stream",
     "text": [
      "(2022, 4, 25, 0, 7, 19, 20, 584867)\n",
      "704186360593276000\n"
     ]
    }
   ],
   "source": [
    "\n",
    "print(machine.RTC().datetime())\n",
    "\n",
    "\n",
    "import time\n",
    "print(time.time_ns())"
   ]
  },
  {
   "cell_type": "code",
   "execution_count": 76,
   "metadata": {},
   "outputs": [
    {
     "name": "stdout",
     "output_type": "stream",
     "text": [
      "Starting advertising\n"
     ]
    }
   ],
   "source": [
    "from bluetooth_simple.ble_simple_peripheral import *\n",
    "ble = bluetooth.BLE()\n",
    "p = BLESimplePeripheral(ble)"
   ]
  },
  {
   "cell_type": "code",
   "execution_count": 78,
   "metadata": {},
   "outputs": [
    {
     "name": "stdout",
     "output_type": "stream",
     "text": [
      "[leftinbuffer] ['New connection 0']\n"
     ]
    }
   ],
   "source": [
    "p.send(\"hello\")"
   ]
  },
  {
   "cell_type": "code",
   "execution_count": 114,
   "metadata": {},
   "outputs": [
    {
     "name": "stdout",
     "output_type": "stream",
     "text": [
      "Starting advertising\n",
      "New connection 0\n",
      "{0}\n",
      "invalid syntax for integer with base 10\n",
      "Disconnected 0\n",
      "Traceback (most recent call last):\n",
      "  File \"bluetooth_simple/ble_simple_peripheral.py\", line 57, in _irq\n",
      "KeyError: 0\n",
      "...........\u001b[34m\n",
      "\n",
      "*** Sending Ctrl-C\n",
      "\n",
      "\u001b[0m"
     ]
    },
    {
     "name": "stderr",
     "output_type": "stream",
     "text": [
      "Traceback (most recent call last):\n",
      "  File \"<stdin>\", line 68, in <module>\n",
      "  File \"<stdin>\", line 24, in main_program\n",
      "KeyboardInterrupt: \n"
     ]
    }
   ],
   "source": [
    "### import bluetooth\n",
    "from bluetooth_simple.ble_simple_peripheral import *\n",
    "\n",
    "import struct\n",
    "def make_heartrate_frame(heartrate):\n",
    "    precise_time = get_time_ns()\n",
    "    packed = struct.pack(\"II\",precise_time,heartrate)\n",
    "    return packed\n",
    "\n",
    "\n",
    "def main_program():\n",
    "    ble = bluetooth.BLE()\n",
    "    uart_b = BLESimplePeripheral(ble)\n",
    "    try:\n",
    "        connect_internet_set_time()\n",
    "    except:\n",
    "        pass\n",
    "    old_time = get_time_ns() \n",
    "    while True:\n",
    "        result = uart.readline()\n",
    "\n",
    "        if result:\n",
    "            try:\n",
    "                number = result.decode()\n",
    "\n",
    "                if number[0] == \"#\": #special case\n",
    "                    if number[1] == \"-\":\n",
    "                        pass\n",
    "                        #print(\"error\")\n",
    "                    else:\n",
    "                        heartrate = 60000.0 / float(number[1:])\n",
    "\n",
    "                        #lcd.clear(lcd.BLACK)\n",
    "\n",
    "                        #lcd.text(lcd.CENTER, lcd.CENTER, str(heartrate))\n",
    "\n",
    "                        #print(\"heart rate\",heartrate)\n",
    "                else: #just the heartbyte\n",
    "                #\n",
    "                    #print(number.strip())\n",
    "                    \n",
    "                    if uart_b.is_connected():\n",
    "                        #p.send(\"hello\")\n",
    "                        try:\n",
    "                            new_time = get_time_ns()\n",
    "                            precise_time = get_time_ns()\n",
    "                            \n",
    "                            \n",
    "                            uart_b.send(struct.pack(\"II\",precise_time,int(number[1:])))\n",
    "                            #p.send(\"hello\")\n",
    "                            print(new_time - old_time)\n",
    "                            old_time = new_time\n",
    "                        except Exception as e:\n",
    "                            print(uart_b._connections)\n",
    "                            print(e)\n",
    "                            conn = list(uart_b._connections)[0]  # hopefully one connection\n",
    "                            try:\n",
    "                                uart_b._ble.gap_disconnect(conn)\n",
    "                                uart_b._connections.clear()\n",
    "                            except Exception as e2:\n",
    "                                print(e2)\n",
    "                            \n",
    "                    else:\n",
    "                        pass\n",
    "                        #print(\"not connected\")\n",
    "                    \n",
    "            except UnicodeError:\n",
    "                print(\"UnicodeError\")\n",
    "                \n",
    "main_program()"
   ]
  },
  {
   "cell_type": "code",
   "execution_count": null,
   "metadata": {},
   "outputs": [],
   "source": [
    "/*----------------------------------------------\n",
    " *  M5StickC Plus Pulse Serial Recieve Sample\n",
    " *    #2019/06/06 - #2019/06/08 - #2020/07/22\n",
    " *    Serial 19200ボー\n",
    " *    No Speaker\n",
    " *    \n",
    " *    Board Select -> M5Stick-C\n",
    "  -----------------------------------------------*/\n",
    "#include <M5StickCPlus.h>\n",
    "#include <WiFi.h>\n",
    "\n",
    "#define MAXADRANGE  4096\n",
    "#define DELIMITCODE  0x0a       // Delimit Code \n",
    "\n",
    "#define SWEEPMAG    8 \n",
    "#define LCDWIDTH    240      // M5Stick-Plus  240\n",
    "#define LCDHEIGHT   135      // M5Stick-Plus  135\n",
    "#define PLSPOSX     32\n",
    "#define PLSPOSY     2\n",
    "\n",
    "static  int sweepptr = 0;\n",
    "static  int lastY = 0;\n",
    "static  int plsrate = 0;\n",
    "static  int x = 0;\n",
    "static  float fConv;  \n",
    "\n",
    "void setup() {\n",
    "    M5.begin();\n",
    "    pinMode(36, INPUT);\n",
    "    gpio_pulldown_dis(GPIO_NUM_25);\n",
    "    gpio_pullup_dis(GPIO_NUM_25);    \n",
    "//---\n",
    "    M5.Axp.ScreenBreath(8);         // LCD輝度を抑える 7-15\n",
    "    M5.Lcd.setRotation(1);          // 回転をDefaultに戻す\n",
    "    M5.Lcd.fillScreen(BLACK);\n",
    "//--- 省電力でWifiOFFする場合に下記入れる\n",
    "    WiFi.mode(WIFI_OFF);\n",
    "//--\n",
    "    M5.Lcd.setTextColor(GREEN);\n",
    "    M5.Lcd.setTextSize(3);    \n",
    "//--\n",
    "    delay(500);\n",
    "    Serial2.begin(19200, SERIAL_8N1, 0, 26);         // RX=0   TX=26\n",
    "    Serial2.print(\"@OF30\");           // Offset\n",
    "    Serial2.write(0x0a);\n",
    "    Serial2.print(\"@RG2\");            // MAG=2\n",
    "    Serial2.write(0x0a);\n",
    "    fConv = (float)LCDHEIGHT/(float)MAXADRANGE;  \n",
    "    WiFi.mode(WIFI_OFF);\n",
    "}\n",
    "\n",
    "void loop() {\n",
    "String   strInput;  \n",
    "int      val,y;\n",
    "\n",
    " if(Serial2.available() > 0) {\n",
    "    strInput = Serial2.readStringUntil(DELIMITCODE);\n",
    "    if (strInput[0]=='#'){    \n",
    "   // 脈拍数データ識別\n",
    "      strInput[0]=' ';        // @をSpaceに置き換える\n",
    "      if (strInput[1]=='-'){\n",
    "        strInput[1]=' ';          // マイナスはErrorマークなのでSpaceに置き換えて色を赤にする\n",
    "        M5.Lcd.setTextColor(RED);     // エラー時は赤文字\n",
    "      }else{\n",
    "        M5.Lcd.setTextColor(GREEN);   // 正常脈拍時は緑文字\n",
    "      }\n",
    "      val = strInput.toInt();     \n",
    "      if (val>0) plsrate = 60000/val;                     // Interval(ms)を1分間の脈拍数(bpm)に変換\n",
    "      M5.Lcd.fillRect(PLSPOSX, PLSPOSY, 50, 16, BLACK);   //　脈拍数表示領域だけ背景を抜く\n",
    "    }else{                \n",
    "  // 脈波形データ処理\n",
    "      sweepptr++;\n",
    "      if (sweepptr>=SWEEPMAG){\n",
    "        sweepptr = 0;\n",
    "        val = strInput.toInt();       \n",
    "        M5.Lcd.drawLine(x, 0, x, LCDHEIGHT-1, BLACK);\n",
    "        y = LCDHEIGHT - (int)((float)val*fConv);\n",
    "        if (x > 0) {\n",
    "          M5.Lcd.drawLine(x - 1, lastY, x, y, WHITE);\n",
    "        }else{\n",
    "          M5.Lcd.drawLine(x, lastY, x, y, WHITE);\n",
    "        }\n",
    "        lastY = y;\n",
    "        x++;\n",
    "        if (x >= LCDWIDTH) x=0;\n",
    "      }\n",
    "    }\n",
    "  //　脈拍数を波形の上に上書き    \n",
    "    M5.Lcd.setCursor(PLSPOSX, PLSPOSY);\n",
    "    M5.Lcd.println(plsrate);      \n",
    "  }\n",
    "}"
   ]
  }
 ],
 "metadata": {
  "kernelspec": {
   "display_name": "MicroPython - USB",
   "language": "micropython",
   "name": "micropython"
  },
  "language_info": {
   "codemirror_mode": "python",
   "file_extension": ".py",
   "mimetype": "text/python",
   "name": "micropython"
  }
 },
 "nbformat": 4,
 "nbformat_minor": 4
}
